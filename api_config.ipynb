{
 "cells": [
  {
   "cell_type": "code",
   "execution_count": 1,
   "metadata": {},
   "outputs": [],
   "source": [
    "# dependencies\n",
    "import matplotlib.pyplot as plt\n",
    "import pandas as pd\n",
    "import numpy as np\n",
    "import requests\n",
    "import time\n",
    "from scipy.stats import linregress\n",
    "import json\n",
    "import scipy.stats as st\n",
    "from config import fmp_api"
   ]
  },
  {
   "cell_type": "code",
   "execution_count": 2,
   "metadata": {},
   "outputs": [
    {
     "name": "stdout",
     "output_type": "stream",
     "text": [
      "Stock Ticker Search: KO\n"
     ]
    }
   ],
   "source": [
    "# global varibales\n",
    "stock = input(\"Stock Ticker Search: \")\n",
    "export_path = f\"/csv_export/{stock}.csv\""
   ]
  },
  {
   "cell_type": "code",
   "execution_count": 3,
   "metadata": {},
   "outputs": [],
   "source": [
    "# fmp api searches set as variables\n",
    "fmp_url = f\"https://financialmodelingprep.com/\"\n",
    "fmp_profile = f\"api/v3/company/profile/{stock}?apikey=\"\n",
    "fmp_quote = f\"api/v3/quote/{stock}?apikey=\"\n",
    "fmp_executive = f\"api/v3/key-executives{stock}?apikey=\"\n",
    "fmp_income = f\"api/v3/financials/income-statement/{stock}apikey=\"\n",
    "fmp_balance = f\"api/v3/financials/balance-sheet-statement/{stock}apikey=\"\n",
    "fmp_cash_flow = f\"api/v3/financials/cash-flow-statement/{stock}?apikey=\"\n",
    "fmp_finn_ratios_ann = f\"api/v3/ratios/{stock}?apikey=\"\n",
    "fmp_finn_ratios_qtr = f\"api/v3/ratios/{stock}?period=quarter?apikey=\"\n",
    "fmp_enterpise_value_ann = f\"api/v3/enterprise-value/{stock}?apikey=\"\n",
    "fmp_enterprise_value_qtr = f\"api/v3/enterprise-value/{stock}?period=quarter?apikey=\"\n",
    "fmp_finn_growth_ann = f\"api/v3/financial-growth/{stock}?apikey=\"\n",
    "fmp_finn_growth_qtr = f\"api/v3/financial-growth/{stock}?period=quarter?apikey=\"\n",
    "fmp_dcf = f\"api/v3/discount-cash-flow/{stock}?apikey=\""
   ]
  },
  {
   "cell_type": "code",
   "execution_count": 5,
   "metadata": {},
   "outputs": [
    {
     "data": {
      "text/plain": [
       "{'symbol': 'KO',\n",
       " 'profile': {'price': 51.19,\n",
       "  'beta': '0.54742',\n",
       "  'volAvg': '15635132',\n",
       "  'mktCap': '2.19883569E11',\n",
       "  'lastDiv': '1.59',\n",
       "  'range': '36.27-60.13',\n",
       "  'changes': 2.07,\n",
       "  'changesPercentage': '(+4.21%)',\n",
       "  'companyName': 'Coca-Cola Co',\n",
       "  'exchange': 'New York Stock Exchange',\n",
       "  'exchangeShortName': 'NYSE',\n",
       "  'industry': 'Beverages Non-Alcoholic',\n",
       "  'website': 'http://www.coca-colacompany.com',\n",
       "  'description': \"The Coca-Cola Co. is the nonalcoholic beverage company, which engages in the manufacture, market, and sale of non-alcoholic beverages which include sparkling soft drinks, water, enhanced water and sports drinks, juice, dairy and plant-based beverages, tea and coffee and energy drinks. The company is headquartered in Atlanta, Georgia and currently employs 62,600 full-time employees. The firm owns or licenses and markets non-alcoholic beverage brands, primarily sparkling beverages and a range of still beverages, such as waters, flavored waters and enhanced waters, juices and juice drinks, ready-to-drink teas and coffees, sports drinks, dairy and energy drinks. The firm's segments include Europe, Middle East and Africa; Latin America; North America; Asia Pacific; Bottling Investments, and Corporate. The firm owns and markets a range of non-alcoholic sparkling beverage brands, including Coca-Cola, Diet Coke, Fanta and Sprite. The firm owns or licenses and markets over 500 non-alcoholic beverage brands. The firm markets, manufactures and sells beverage concentrates, which are referred to as beverage bases, and syrups, including fountain syrups, and finished sparkling and still beverages.\",\n",
       "  'ceo': 'Mr. James Quincey',\n",
       "  'sector': 'Consumer Defensive',\n",
       "  'country': 'US',\n",
       "  'fullTimeEmployees': '86200',\n",
       "  'phone': '14046762121',\n",
       "  'address': '1 Coca Cola Plz NW',\n",
       "  'city': 'Atlanta',\n",
       "  'state': 'GEORGIA',\n",
       "  'zip': '30301',\n",
       "  'image': 'https://financialmodelingprep.com/images-New-jpg/KO.jpg'}}"
      ]
     },
     "execution_count": 5,
     "metadata": {},
     "output_type": "execute_result"
    }
   ],
   "source": [
    "# api\n",
    "query = (f\"{fmp_url}{fmp_profile}{fmp_api}\")\n",
    "reponse = requests.get(query).json()\n",
    "reponse"
   ]
  },
  {
   "cell_type": "code",
   "execution_count": null,
   "metadata": {},
   "outputs": [],
   "source": []
  }
 ],
 "metadata": {
  "kernelspec": {
   "display_name": "Python 3",
   "language": "python",
   "name": "python3"
  },
  "language_info": {
   "codemirror_mode": {
    "name": "ipython",
    "version": 3
   },
   "file_extension": ".py",
   "mimetype": "text/x-python",
   "name": "python",
   "nbconvert_exporter": "python",
   "pygments_lexer": "ipython3",
   "version": "3.7.6"
  }
 },
 "nbformat": 4,
 "nbformat_minor": 4
}
